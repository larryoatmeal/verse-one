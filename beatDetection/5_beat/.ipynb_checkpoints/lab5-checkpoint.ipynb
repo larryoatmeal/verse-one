{
 "cells": [
  {
   "cell_type": "markdown",
   "metadata": {},
   "source": [
    "# 21M.359 Fundamentals of Music Processing\n",
    "## Lab5"
   ]
  },
  {
   "cell_type": "code",
   "execution_count": 2,
   "metadata": {
    "collapsed": true
   },
   "outputs": [],
   "source": [
    "import numpy as np\n",
    "import matplotlib.pyplot as plt\n",
    "import IPython.display as ipd\n",
    "from ipywidgets import interact\n",
    "\n",
    "import sys\n",
    "sys.path.append(\"../common\")\n",
    "from util import *\n",
    "import fmp\n",
    "\n",
    "%matplotlib inline\n",
    "plt.rcParams['figure.figsize'] = (12, 3)"
   ]
  },
  {
   "cell_type": "markdown",
   "metadata": {},
   "source": [
    "## Exercise 1\n",
    "\n",
    "For the matrix `m` below, create two vectors:\n",
    "- the average values of the columns\n",
    "- the average values of the rows"
   ]
  },
  {
   "cell_type": "code",
   "execution_count": 3,
   "metadata": {
    "collapsed": false
   },
   "outputs": [
    {
     "name": "stdout",
     "output_type": "stream",
     "text": [
      "[[ 8.  2.  7.  7.]\n",
      " [ 6.  3.  5.  8.]\n",
      " [ 1.  4.  9.  6.]]\n",
      "[ 6.   5.5  5. ]\n",
      "[ 5.  3.  7.  7.]\n"
     ]
    }
   ],
   "source": [
    "m = np.array(((8, 2, 7, 7), (6., 3, 5, 8), (1, 4, 9, 6)))\n",
    "print m\n",
    "\n",
    "\n",
    "col_ave = np.mean(m, axis = 1) #axis = 1, column\n",
    "row_ave = np.mean(m, axis = 0)\n",
    "\n",
    "print col_ave\n",
    "print row_ave\n",
    "\n",
    "\n"
   ]
  },
  {
   "cell_type": "markdown",
   "metadata": {},
   "source": [
    "## Exercise 2\n",
    "In the following exercise, we will explore the auto-correlation tempogram using this piece of audio:"
   ]
  },
  {
   "cell_type": "code",
   "execution_count": null,
   "metadata": {
    "collapsed": false
   },
   "outputs": [],
   "source": [
    "snd = load_wav(\"audio/queen_another_one.wav\", 0, 30)\n",
    "sr = 22050.\n",
    "ipd.Audio(snd, rate = sr)"
   ]
  },
  {
   "cell_type": "markdown",
   "metadata": {},
   "source": [
    "Generate $\\Delta(n)$, the spectral novelty function of `snd` using:  \n",
    "`fmp.spectral_novelty(x, win_len, hop_size, gamma)`\n",
    "\n",
    "Use the parameters:\n",
    "- $N=1024$ \n",
    "- $H=512$ \n",
    "- $\\gamma=100$\n",
    "\n",
    "Plot $\\Delta(n)$"
   ]
  },
  {
   "cell_type": "code",
   "execution_count": null,
   "metadata": {
    "collapsed": false
   },
   "outputs": [],
   "source": [
    "# answer\n"
   ]
  },
  {
   "cell_type": "markdown",
   "metadata": {},
   "source": [
    "Now grab a small window of $\\Delta(n)$ starting at $n=100$, with window length $L=256$. We'll call this signal $w(n)$.\n",
    "\n",
    "Plot $w(n)$."
   ]
  },
  {
   "cell_type": "code",
   "execution_count": null,
   "metadata": {
    "collapsed": false
   },
   "outputs": [],
   "source": [
    "# answer\n"
   ]
  },
  {
   "cell_type": "markdown",
   "metadata": {},
   "source": [
    "Create a function to compute the auto-correlation of a signal $x(n)$:\n",
    "$$ R_{xx}(l) = \\sum x(n) \\cdot x(n-l) $$\n",
    "\n",
    "Use a python `for` loop, where you loop over each lag value (from 0 to L-1), computing $ R_{xx}(l)$ using the dot product.\n",
    "\n",
    "- Find $R_{ww}$ for the windowed signal $w(n)$\n",
    "- Plot the result"
   ]
  },
  {
   "cell_type": "code",
   "execution_count": null,
   "metadata": {
    "collapsed": false
   },
   "outputs": [],
   "source": [
    "# answer\n",
    "def auto_correlate(x) :\n",
    "    pass"
   ]
  },
  {
   "cell_type": "markdown",
   "metadata": {},
   "source": [
    "## Exercise 3\n",
    "Create the same auto-correlation vector, but use the numpy function `np.correlate` to achieve the same result without using a `for` loop. Hint, use the optional argument `mode='full'`.\n",
    "\n",
    "Plot this to show that both methods produce the same result."
   ]
  },
  {
   "cell_type": "code",
   "execution_count": null,
   "metadata": {
    "collapsed": false
   },
   "outputs": [],
   "source": [
    "# answer\n"
   ]
  },
  {
   "cell_type": "markdown",
   "metadata": {},
   "source": [
    "## Exercise 4\n",
    "\n",
    "Given the parameters above\n",
    "- What lag values ($l$) correspond to the first 4 big peak of the AC function (not including 0)?\n",
    "- What tempo (BPM) values do these imply?"
   ]
  },
  {
   "cell_type": "code",
   "execution_count": null,
   "metadata": {
    "collapsed": false
   },
   "outputs": [],
   "source": [
    "# answer\n"
   ]
  },
  {
   "cell_type": "markdown",
   "metadata": {},
   "source": [
    "## Exercise 5\n",
    "\n",
    "We will now estimate the tempo values for the same window using the Fourier method.\n",
    "\n",
    "For the same windowed signal $x$ (of length $L=N=256$), compute $X(k)$ the fourier transform (remember to use the \"real fft\" function `np.fft.rfft`). Don't forget to use a Hann window as well.\n",
    "\n",
    "Plot $\\lvert X(k) \\lvert$"
   ]
  },
  {
   "cell_type": "code",
   "execution_count": null,
   "metadata": {
    "collapsed": false
   },
   "outputs": [],
   "source": [
    "# answer\n"
   ]
  },
  {
   "cell_type": "markdown",
   "metadata": {},
   "source": [
    "Given the Fourier Transform above:\n",
    "- Which frequency bins ($k$) correspond to the first 4 prominent peaks (not including 0)?\n",
    "- What tempo (BPM) values do these imply?"
   ]
  },
  {
   "cell_type": "code",
   "execution_count": null,
   "metadata": {
    "collapsed": false
   },
   "outputs": [],
   "source": [
    "# answer\n"
   ]
  },
  {
   "cell_type": "markdown",
   "metadata": {},
   "source": [
    "## Exercise 6\n",
    "\n",
    "What observations can you make about the tempo values predicted by each method?"
   ]
  },
  {
   "cell_type": "markdown",
   "metadata": {},
   "source": [
    "Answer:\n"
   ]
  },
  {
   "cell_type": "markdown",
   "metadata": {},
   "source": [
    "## Exercise 7\n",
    "\n",
    "Let's make the tempo predications more accurate.\n",
    "\n",
    "To make the auto-correlation method more accurate, we can resample the input signal to increase it's temporal resolution.\n",
    "\n",
    "- Upsample the windowed novelty function by 4 using: `scipy.signal.resample_poly(x, 4, 1)`\n",
    "- Plot this new signal\n",
    "- Create the auto correlation \n",
    "- Plot that."
   ]
  },
  {
   "cell_type": "code",
   "execution_count": null,
   "metadata": {
    "collapsed": false
   },
   "outputs": [],
   "source": [
    "# answer\n"
   ]
  },
  {
   "cell_type": "markdown",
   "metadata": {},
   "source": [
    "Now repeat the above process by finding the lag values and corresponding tempos for the first 4 peaks."
   ]
  },
  {
   "cell_type": "code",
   "execution_count": null,
   "metadata": {
    "collapsed": false
   },
   "outputs": [],
   "source": [
    "# answer\n"
   ]
  },
  {
   "cell_type": "markdown",
   "metadata": {
    "collapsed": true
   },
   "source": [
    "## Exercise 8\n",
    "\n",
    "Now we refine the output of the Fourier analysis with zero-padding:\n",
    "- Apply a Hann window to $w(n)$\n",
    "- Zero-pad the result to be 4 times as long.\n",
    "- Take the real FFT.\n",
    "- Plot the result"
   ]
  },
  {
   "cell_type": "code",
   "execution_count": null,
   "metadata": {
    "collapsed": false
   },
   "outputs": [],
   "source": [
    "# answer\n"
   ]
  },
  {
   "cell_type": "markdown",
   "metadata": {},
   "source": [
    "As above, find the tempos predicted by the first four peaks."
   ]
  },
  {
   "cell_type": "code",
   "execution_count": null,
   "metadata": {
    "collapsed": false
   },
   "outputs": [],
   "source": [
    "# answer\n"
   ]
  },
  {
   "cell_type": "markdown",
   "metadata": {},
   "source": [
    "Finally, compare these refined tempo results from the two methods."
   ]
  }
 ],
 "metadata": {
  "kernelspec": {
   "display_name": "Python 2",
   "language": "python",
   "name": "python2"
  },
  "language_info": {
   "codemirror_mode": {
    "name": "ipython",
    "version": 2
   },
   "file_extension": ".py",
   "mimetype": "text/x-python",
   "name": "python",
   "nbconvert_exporter": "python",
   "pygments_lexer": "ipython2",
   "version": "2.7.12"
  }
 },
 "nbformat": 4,
 "nbformat_minor": 1
}
