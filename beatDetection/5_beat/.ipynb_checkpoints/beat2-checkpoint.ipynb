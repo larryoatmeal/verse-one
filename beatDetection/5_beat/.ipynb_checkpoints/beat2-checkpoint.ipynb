{
 "cells": [
  {
   "cell_type": "markdown",
   "metadata": {},
   "source": [
    "# 21M.359 Fundamentals of Music Processing\n",
    "## Beat Detection 2"
   ]
  },
  {
   "cell_type": "code",
   "execution_count": null,
   "metadata": {},
   "outputs": [],
   "source": [
    "import numpy as np\n",
    "import matplotlib.pyplot as plt\n",
    "import IPython.display as ipd\n",
    "from ipywidgets import interact\n",
    "\n",
    "import sys\n",
    "sys.path.append(\"../common\")\n",
    "from util import *\n",
    "import fmp\n",
    "\n",
    "%matplotlib inline\n",
    "plt.rcParams['figure.figsize'] = (12, 4)"
   ]
  },
  {
   "cell_type": "markdown",
   "metadata": {},
   "source": [
    "## Beat Tracking by Dynamic Programming\n",
    "\n",
    "- Assumes mostly steady beat.\n",
    "- Assumes beats generally coincide with large values of the Novelty Signal.\n",
    "- Requires an estimate of what the general tempo is.\n",
    "\n",
    "The goal is to create a _beat sequence_. Let's call that $B$:  \n",
    "$B = (b_1, b_2, b_3, ... b_L)$\n",
    "\n",
    "Each $b_l$ is a _beat location_ - a timestamp in the Novelty Curve $\\Delta(n)$.  \n",
    "There are $L$ beats in the beat sequence."
   ]
  },
  {
   "cell_type": "markdown",
   "metadata": {
    "collapsed": true
   },
   "source": [
    "We want to balance two factors:\n",
    "\n",
    "1. Beat locations should line up with large values of $\\Delta(n)$.\n",
    "- The delta between any two consecutive beats should be close to $\\hat \\delta$, the _beat interval_.\n",
    "\n",
    "$\\hat \\delta$ is the tempo estimate in units of samples. To compute it:  \n",
    "Assuming $\\hat \\tau$ is the tempo estimate in BPM and $F_f$ is the sampling rate of $\\Delta$:  \n",
    "$$\\hat \\delta = F_f \\cdot {60 \\over \\hat \\tau}$$"
   ]
  },
  {
   "cell_type": "markdown",
   "metadata": {},
   "source": [
    "Next, we construct a _Score Function_ that lets us evaluate a beat sequence $B$.\n",
    "\n",
    "$\\mathbf{S}(B) = [\\text{beats align with onsets}] + \\lambda [\\text{beat deltas} \\simeq \\hat \\delta]$\n",
    "\n",
    "For the first part:\n",
    "$\\sum_{l=1}^L \\Delta(b_l)$\n",
    "\n",
    "For the second part:\n",
    "$\\sum_{l=2}^L P_{\\hat \\delta}(b_l - b_{l-1})$\n",
    "\n",
    "What is $P_{\\hat \\delta}(\\delta)$?\n",
    "\n",
    "It should be a function that is large when $\\delta = \\hat \\delta$, and should gradually fall off when $\\delta$ gets bigger or smaller than $\\hat \\delta$:\n",
    "\n",
    "<img src=\"images/delta_penalty.png\" width=600>\n",
    "\n",
    "$$P_{\\hat \\delta}(\\delta) = -(\\log_2(\\delta / \\hat \\delta))^2$$\n",
    "\n",
    "It is a _logarithmic function_. Half-tempo produces the same penalty has double-tempo."
   ]
  },
  {
   "cell_type": "markdown",
   "metadata": {
    "collapsed": true
   },
   "source": [
    "So, the beat-score function for a particular series of beats $B$ is:  \n",
    "$$\\mathbf{S}(B) = \\sum_{l=1}^L \\Delta(b_l) + \\lambda \\sum_{l=2}^L P_{\\hat \\delta}(b_l - b_{l-1})$$\n"
   ]
  },
  {
   "cell_type": "markdown",
   "metadata": {},
   "source": [
    "Example:"
   ]
  },
  {
   "cell_type": "code",
   "execution_count": null,
   "metadata": {},
   "outputs": [],
   "source": [
    "snd = load_wav(\"audio/beatles_being_for_the_benefit_of_mr_kite.wav\", 0, 30)\n",
    "sr = 22050\n",
    "plot_and_listen(\"audio/beatles_being_for_the_benefit_of_mr_kite.wav\", 30)"
   ]
  },
  {
   "cell_type": "markdown",
   "metadata": {},
   "source": [
    "Create the Novelty Function using the Spectral Method with parameters:\n",
    "- $N=1024$\n",
    "- $H=512$\n",
    "- $\\gamma=10$"
   ]
  },
  {
   "cell_type": "code",
   "execution_count": null,
   "metadata": {},
   "outputs": [],
   "source": [
    "win_len = 1024\n",
    "hop_size = 512\n",
    "nov = fmp.spectral_novelty(snd, win_len, hop_size, 10)\n",
    "fr = sr / float(hop_size)\n",
    "print \"feature rate = %.2fHz\" % fr\n",
    "plt.plot(nov);"
   ]
  },
  {
   "cell_type": "markdown",
   "metadata": {},
   "source": [
    "The tempo of this song is approximately 110BPM. We assume this for now, and we will show how to compute it later on.\n",
    "\n",
    "So: $\\hat \\tau = 110$"
   ]
  },
  {
   "cell_type": "code",
   "execution_count": null,
   "metadata": {},
   "outputs": [],
   "source": [
    "bpm = 110.\n",
    "est_period = fr * 60 / bpm\n",
    "print \"period = %.2f samples\" % est_period"
   ]
  },
  {
   "cell_type": "markdown",
   "metadata": {},
   "source": [
    "This is the beat score function:"
   ]
  },
  {
   "cell_type": "code",
   "execution_count": null,
   "metadata": {
    "collapsed": true
   },
   "outputs": [],
   "source": [
    "def beat_score(nov, beats, est_period, lam=10):\n",
    "    a = np.sum(nov[beats])\n",
    "    deltas = beats[1:] - beats[:-1]\n",
    "    b = np.sum (- (np.log2( deltas / est_period) ** 2))\n",
    "    return a + lam * b"
   ]
  },
  {
   "cell_type": "markdown",
   "metadata": {},
   "source": [
    "This is an example of the beat_score function at work.  \n",
    "Each example beat sequence below has its own beat score.\n"
   ]
  },
  {
   "cell_type": "code",
   "execution_count": null,
   "metadata": {},
   "outputs": [],
   "source": [
    "@interact(period=(20, 28), offset=(0, 30), rnd=False)\n",
    "def test_beat_score(period, offset, rnd) :\n",
    "    num = int(len(nov) / period) - 1\n",
    "    beats = np.arange(num) * period + offset\n",
    "    if rnd:\n",
    "        beats = beats + np.random.random(num) * 3\n",
    "    beats = beats.astype(np.int)\n",
    "\n",
    "    plt.plot(nov);\n",
    "    plt.vlines(beats, 0, 1, 'r')\n",
    "    txt = 'score = %.3f' % beat_score(nov, beats, est_period)\n",
    "    plt.text(0, 1.1, txt, fontsize=15)"
   ]
  },
  {
   "cell_type": "markdown",
   "metadata": {},
   "source": [
    "Now, we have an optimization problem:\n",
    "\n",
    "Given the score function $\\mathbf{S}(B)$, and all possible beat sequences, find the beat sequence $B^*$ that maximizes  $\\mathbf{S}(B)$.\n",
    "\n",
    "$$B^* = \\text{argmax}\\lbrace \\mathbf{S}(B) \\mid B \\in \\mathcal{B}^N\\rbrace$$"
   ]
  },
  {
   "cell_type": "markdown",
   "metadata": {},
   "source": [
    "## Dynamic Programming\n",
    "\n",
    "The number of different beat sequences is ridiculously large. It is exponential in $N$, the number of \"beat slots\""
   ]
  },
  {
   "cell_type": "code",
   "execution_count": null,
   "metadata": {},
   "outputs": [],
   "source": [
    "dur = 2\n",
    "num_slots = int(dur * fr)\n",
    "print \"N=%d slots for novelty function of %d seconds\" % (num_slots, dur)\n",
    "print \"number of beat sequences: %d\" % 2 ** num_slots"
   ]
  },
  {
   "cell_type": "markdown",
   "metadata": {
    "collapsed": true
   },
   "source": [
    "Like we did in Dynamic Time Warping, we can use Dynamic Programming to find the optimal sequence without trying them all.\n",
    "\n",
    "Similar technique to DTW: \n",
    "- work on local sub-problems\n",
    "- accumulate local score into a global vector"
   ]
  },
  {
   "cell_type": "markdown",
   "metadata": {
    "collapsed": true
   },
   "source": [
    "### Accumulated Score Vector $\\mathbf{D}$\n",
    "\n",
    "Define a vector $\\mathbf{D}$ of length $N$ where each element:\n",
    "$$\\mathbf{D}(n) = \\max \\lbrace \\mathbf{S}(B) \\mid B \\in \\mathcal{B}^N_n \\rbrace$$\n",
    "\n",
    "where $\\mathcal{B}^N_n$ is the set of all beat sequences ending at position $n$.\n",
    "\n",
    "In other words, $\\mathbf{D}(n)$ stores the _score_ of the best (highest scoring) beat sequence ending in $n$.\n",
    "\n",
    "Caution: $\\mathbf{D}(n) \\mid n \\in [0:N]$ whereas $\\Delta (n) \\mid n \\in [1:N]$.\n",
    "\n",
    "\n",
    "$\\mathbf{D}(n)$ is calculated as follows:\n",
    "\n",
    "\n",
    "First, initialize $\\mathbf{D}(0)$:\n",
    "$$\\mathbf{D}(0) = 0$$\n",
    "\n",
    "Next, compute each value of $\\mathbf{D}(n)$, for $n \\in [1:N]$:\n",
    "\n",
    "$$\n",
    "\\mathbf{D}(n) = \\Delta(n) + \\max\n",
    "\\begin{cases}\n",
    "0,  \\\\\n",
    "\\max_{m \\in [1:n-1]} \\lbrace \\mathbf{D}(m) + \\lambda P_{\\hat \\delta}(n - m)\\rbrace \\\\\n",
    "\\end{cases}\n",
    "$$\n",
    "\n",
    "The important step above is the $\\max$ statement. It allows the current time-step $n$ to be \"arrived at\" from the best possible previous location (which has the highest score combined with the smallest penalty).\n",
    "\n",
    "Think of it like this: what's the best way to get _here_ $[n]$ coming from _over there_ $[1:n-1$]?\n",
    "\n",
    "Finally, in order to actually find the optimal beat sequecne $B^*$, we must remember which $m$ produced the $\\max$ calculation above and store that in a backtracking vector $\\mathbf{P}$. "
   ]
  },
  {
   "cell_type": "markdown",
   "metadata": {
    "collapsed": true
   },
   "source": [
    "### Example\n",
    "\n",
    "Here is a toy example. \n",
    "\n",
    "For simplicity, we use $\\lambda = 1$ and $P_{\\hat \\delta}(\\delta) = - (\\delta - \\hat \\delta)^2$\n",
    "\n",
    "Here $\\hat \\delta = 3$\n",
    "<img src=\"images/dyn_prog_toy.png\" width=600>"
   ]
  },
  {
   "cell_type": "markdown",
   "metadata": {
    "collapsed": true
   },
   "source": [
    "## Estimating Global Tempo\n",
    "\n",
    "One strategy for estimating the global tempo $\\hat \\tau$ is to use create a tempogram and average all the rows:\n",
    "\n",
    "Here is the tempogram:"
   ]
  },
  {
   "cell_type": "code",
   "execution_count": null,
   "metadata": {},
   "outputs": [],
   "source": [
    "tg_win = 256\n",
    "tg_hop = 32\n",
    "tg_zp = 16\n",
    "fft_len = tg_win * tg_zp\n",
    "tg = np.abs(fmp.stft(nov, tg_win, tg_hop, tg_zp, centered=False))\n",
    "\n",
    "plt.imshow(tg, origin='lower', interpolation='nearest', aspect='auto')\n",
    "plt.colorbar();"
   ]
  },
  {
   "cell_type": "markdown",
   "metadata": {},
   "source": [
    "Average across all rows"
   ]
  },
  {
   "cell_type": "code",
   "execution_count": null,
   "metadata": {},
   "outputs": [],
   "source": [
    "ave_tg = np.mean(tg, axis = 1)\n",
    "plt.plot(ave_tg);\n",
    "plt.ylim(0,3);"
   ]
  },
  {
   "cell_type": "markdown",
   "metadata": {},
   "source": [
    "Pick the maximum, but only from a pre-specified tempo range. For example:\n",
    "- Min Tempo: 40BPM\n",
    "- Max Tempo: 200BPM\n"
   ]
  },
  {
   "cell_type": "code",
   "execution_count": null,
   "metadata": {},
   "outputs": [],
   "source": [
    "win = fmp.make_tempo_range_window(fft_len, fr, 40, 200)\n",
    "ave_tg = ave_tg * win\n",
    "plt.plot(ave_tg)\n",
    "plt.ylim(0,3);"
   ]
  },
  {
   "cell_type": "markdown",
   "metadata": {},
   "source": [
    "Finally, locate maximum:"
   ]
  },
  {
   "cell_type": "code",
   "execution_count": null,
   "metadata": {},
   "outputs": [],
   "source": [
    "bin = np.argmax(ave_tg * win)\n",
    "freq_res = fr / fft_len\n",
    "print 'max bin number', bin\n",
    "print 'BPM estimate', 60 * bin * freq_res"
   ]
  },
  {
   "cell_type": "markdown",
   "metadata": {},
   "source": [
    "From the BPM, compute the estimated period given the feature rate of $\\Delta(n)$"
   ]
  },
  {
   "cell_type": "code",
   "execution_count": null,
   "metadata": {},
   "outputs": [],
   "source": [
    "bpm = fmp.estimate_bpm(nov, fr, 40, 200)\n",
    "est_period = int(round(60 * fr / bpm))\n",
    "print est_period"
   ]
  },
  {
   "cell_type": "markdown",
   "metadata": {},
   "source": [
    "## Beat Tracking Examples\n",
    "\n",
    "Now that we have the estimated period, run the Dynamic Programming Beat Tracker\n",
    "(with $\\lambda = 10$)"
   ]
  },
  {
   "cell_type": "code",
   "execution_count": null,
   "metadata": {},
   "outputs": [],
   "source": [
    "beats = fmp.create_dp_beats(nov, est_period, 10)\n",
    "plt.figure(figsize=(10, 5))\n",
    "plt.plot(nov)\n",
    "plt.vlines(beats, 0, 1, 'r');\n",
    "plt.xlim(400, 620)"
   ]
  },
  {
   "cell_type": "code",
   "execution_count": null,
   "metadata": {},
   "outputs": [],
   "source": [
    "beat_locs = (beats / fr * sr).astype(np.int)\n",
    "click_snd = load_wav(\"audio/click.wav\")\n",
    "clicks = fmp.make_clicks(beat_locs, len(snd), click_snd)\n",
    "ipd.Audio([snd * 0.2, clicks], rate = sr - 1)"
   ]
  },
  {
   "cell_type": "markdown",
   "metadata": {},
   "source": [
    "### The Effect of changing $\\lambda$"
   ]
  },
  {
   "cell_type": "code",
   "execution_count": null,
   "metadata": {},
   "outputs": [],
   "source": [
    "@interact(lmda_idx=(0, 3), mult_idx=(0,2))\n",
    "def test_beat_track(lmda_idx, mult_idx):\n",
    "    lmda = (0.1, 1, 10, 100)[lmda_idx]\n",
    "    mult_factor = (0.5, 1, 2)[mult_idx]\n",
    "    ep = int(mult_factor * est_period)\n",
    "    beats = fmp.create_dp_beats(nov, ep, lmda)\n",
    "    plt.figure(figsize=(10, 5))\n",
    "    plt.plot(nov)\n",
    "    plt.vlines(beats, 0, 1, 'r');\n",
    "    plt.xlim(0, 400)\n",
    "    text = \"$\\lambda = %.1f$   $\\delta = %d$\" % (lmda, ep)\n",
    "    plt.text(0, 1.1, text, fontsize=20)\n",
    "    beat_locs = (beats / fr * sr).astype(np.int)\n",
    "    clicks = fmp.make_clicks(beat_locs, len(snd), click_snd)\n",
    "    return ipd.Audio([snd * 0.2, clicks], rate = sr)    "
   ]
  },
  {
   "cell_type": "markdown",
   "metadata": {
    "collapsed": true
   },
   "source": [
    "### Another Example\n",
    "\n",
    "_Chameleon_ by Herbie Hancock"
   ]
  },
  {
   "cell_type": "code",
   "execution_count": null,
   "metadata": {},
   "outputs": [],
   "source": [
    "snd = load_wav(\"audio/hancock_chameleon.wav\", 0, 60)\n",
    "nov = fmp.spectral_novelty(snd, win_len, hop_size, 10)\n",
    "bpm = fmp.estimate_bpm(nov, fr, 40, 150)\n",
    "est_period = int(round(60 * fr / bpm))\n",
    "print est_period"
   ]
  },
  {
   "cell_type": "code",
   "execution_count": null,
   "metadata": {},
   "outputs": [],
   "source": [
    "@interact(lmda_idx=(0, 3))\n",
    "def test_beat_track(lmda_idx):\n",
    "    lmda = (0.1, 1, 5, 10)[lmda_idx]\n",
    "    ep = int(est_period)\n",
    "    beats = fmp.create_dp_beats(nov, ep, lmda)\n",
    "    plt.figure(figsize=(10, 5))\n",
    "    plt.plot(nov)\n",
    "    plt.vlines(beats, 0, 1, 'r');\n",
    "    plt.xlim(0, 400)\n",
    "    text = \"$\\lambda = %.1f$   $\\delta = %d$\" % (lmda, ep)\n",
    "    plt.text(0, 1.1, text, fontsize=20)\n",
    "    beat_locs = (beats / fr * sr).astype(np.int)\n",
    "    clicks = fmp.make_clicks(beat_locs, len(snd), click_snd)\n",
    "    return ipd.Audio([snd * 0.2, clicks], rate = sr)    "
   ]
  },
  {
   "cell_type": "markdown",
   "metadata": {},
   "source": [
    "## Beat Synchronized Features"
   ]
  },
  {
   "cell_type": "markdown",
   "metadata": {},
   "source": [
    "Another applicaiton of Beat Tracking is to help improve other feature calculations"
   ]
  },
  {
   "cell_type": "code",
   "execution_count": null,
   "metadata": {},
   "outputs": [],
   "source": [
    "snd = load_wav(\"audio/bach_prelude13.wav\", 0, 20)\n",
    "sr = 22050.\n",
    "ipd.Audio(snd, rate = sr)"
   ]
  },
  {
   "cell_type": "markdown",
   "metadata": {},
   "source": [
    "Chromagram of the first 10 seconds:"
   ]
  },
  {
   "cell_type": "code",
   "execution_count": null,
   "metadata": {},
   "outputs": [],
   "source": [
    "chroma1 = fmp.make_chromagram(snd[:int(sr*10)], sr, 4096, 1024, 1)\n",
    "plt.imshow(chroma1, origin='lower', interpolation='nearest', aspect='auto', cmap='Greys');"
   ]
  },
  {
   "cell_type": "markdown",
   "metadata": {},
   "source": [
    "Find beats by dynamic programming"
   ]
  },
  {
   "cell_type": "code",
   "execution_count": null,
   "metadata": {},
   "outputs": [],
   "source": [
    "win_len = 512\n",
    "hop_size = 256\n",
    "nov = fmp.spectral_novelty(snd, win_len, hop_size, 10)\n",
    "fr = sr / hop_size\n",
    "est_bpm = fmp.estimate_bpm(nov, fr, 200, 400)\n",
    "est_period = int(round(fr * 60 / est_bpm))\n",
    "beats = fmp.create_dp_beats(nov, est_period, lmda = 5.)\n",
    "plt.plot(nov)\n",
    "plt.vlines(beats, 0, 1, 'r');\n",
    "beat_locs = (beats / fr * sr).astype(np.int)\n",
    "clicks = fmp.make_clicks(beat_locs, len(snd), click_snd)\n",
    "ipd.Audio([snd, clicks], rate = sr)    "
   ]
  },
  {
   "cell_type": "markdown",
   "metadata": {},
   "source": [
    "Create a customized chromagram based on a _non-uniform_ spacing of the STFT."
   ]
  },
  {
   "cell_type": "code",
   "execution_count": null,
   "metadata": {},
   "outputs": [],
   "source": [
    "plt.plot(snd[0:int(sr*3)])\n",
    "plt.vlines(beat_locs[:13], -0.05, .05, 'r');"
   ]
  },
  {
   "cell_type": "markdown",
   "metadata": {},
   "source": [
    "Find the maximum beat length to figure out $N$ for the STFT.\n",
    "\n",
    "- $N = $ next power of 2 above max window length\n",
    "- $H$ is not a constant - hops vary according to the detected beats\n",
    "- Use zero-padding up to $N$ as needed\n",
    "- This method has no overlapping windows"
   ]
  },
  {
   "cell_type": "code",
   "execution_count": null,
   "metadata": {
    "collapsed": true
   },
   "outputs": [],
   "source": [
    "def sync_stft(x, sync, fft_len):\n",
    "    num_hops = len(sync) - 1\n",
    "    num_bins = fft_len / 2 + 1\n",
    "\n",
    "    output = np.empty((num_bins, num_hops), dtype = np.complex)\n",
    "\n",
    "    for h in range(num_hops):\n",
    "        start = sync[h]\n",
    "        end = sync[h+1]\n",
    "        wlen = end - start\n",
    "        sig = x[start:end] * np.hanning(wlen)\n",
    "        sig.resize(fft_len) # this will zero-pad to the correct length\n",
    "        \n",
    "        # take real FFT\n",
    "        output[: , h] = np.fft.rfft(sig)\n",
    "    return output"
   ]
  },
  {
   "cell_type": "code",
   "execution_count": null,
   "metadata": {},
   "outputs": [],
   "source": [
    "longest_beat = np.max(beat_locs[1:] - beat_locs[:-1])\n",
    "fft_len = int(2 ** np.ceil(np.log2(longest_beat)))\n",
    "\n",
    "print 'longest beat:',  longest_beat\n",
    "print 'fft_len:', fft_len\n",
    "\n",
    "spec = sync_stft(snd, beat_locs, fft_len)\n",
    "plot_spectrogram(spec[0:600,])\n",
    "# plot_spectrogram(spec[40:200,:20])"
   ]
  },
  {
   "cell_type": "markdown",
   "metadata": {},
   "source": [
    "Use this Spectrogram to make a chormagram"
   ]
  },
  {
   "cell_type": "code",
   "execution_count": null,
   "metadata": {
    "collapsed": true
   },
   "outputs": [],
   "source": [
    "def make_sync_chormagram(snd, sr, sync, gamma = 1, normalize = True):\n",
    "    # find max window size:\n",
    "    fft_len = np.max(sync[1:] - sync[:-1])\n",
    "\n",
    "    # round up to next power of 2:\n",
    "    fft_len = int(2 ** np.ceil(np.log2(fft_len)))\n",
    "    \n",
    "    c_fp = fmp.spec_to_pitch_fb(sr, fft_len, type='hann')\n",
    "    c_pc = np.tile(np.identity(12), 11)[:, 0:128]\n",
    "    spec = np.abs(sync_stft(snd, sync, fft_len))\n",
    "    \n",
    "    chroma = np.dot(np.dot(c_pc, c_fp), spec ** 2)\n",
    "    if gamma > 0:\n",
    "        chroma = np.log(1 + gamma * chroma)\n",
    "        \n",
    "    if normalize:\n",
    "        length = np.linalg.norm(chroma, axis=0, ord = 2)\n",
    "        chroma = chroma / length\n",
    "    return chroma"
   ]
  },
  {
   "cell_type": "code",
   "execution_count": null,
   "metadata": {},
   "outputs": [],
   "source": [
    "chroma2 = make_sync_chormagram(snd, sr, beat_locs[:45], 1)\n",
    "plot_two_chromas(chroma1, chroma2)"
   ]
  },
  {
   "cell_type": "code",
   "execution_count": null,
   "metadata": {
    "collapsed": true
   },
   "outputs": [],
   "source": []
  }
 ],
 "metadata": {
  "kernelspec": {
   "display_name": "Python 2",
   "language": "python",
   "name": "python2"
  },
  "language_info": {
   "codemirror_mode": {
    "name": "ipython",
    "version": 2
   },
   "file_extension": ".py",
   "mimetype": "text/x-python",
   "name": "python",
   "nbconvert_exporter": "python",
   "pygments_lexer": "ipython2",
   "version": "2.7.13"
  }
 },
 "nbformat": 4,
 "nbformat_minor": 1
}
